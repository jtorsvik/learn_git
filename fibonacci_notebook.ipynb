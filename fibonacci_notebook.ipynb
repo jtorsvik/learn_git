{
 "cells": [
  {
   "cell_type": "code",
   "execution_count": 1,
   "metadata": {},
   "outputs": [],
   "source": [
    "from fibonacci import *"
   ]
  },
  {
   "cell_type": "code",
   "execution_count": 2,
   "metadata": {},
   "outputs": [
    {
     "name": "stdout",
     "output_type": "stream",
     "text": [
      "Sequence number: 0, Fibonacci number: 0\n",
      "Sequence number: 1, Fibonacci number: 1\n",
      "Sequence number: 2, Fibonacci number: 1\n",
      "Sequence number: 3, Fibonacci number: 2\n",
      "Sequence number: 4, Fibonacci number: 3\n",
      "Sequence number: 5, Fibonacci number: 5\n",
      "Sequence number: 6, Fibonacci number: 8\n",
      "Sequence number: 7, Fibonacci number: 13\n",
      "Sequence number: 8, Fibonacci number: 21\n",
      "Sequence number: 9, Fibonacci number: 34\n"
     ]
    }
   ],
   "source": [
    "for i in range(10):\n",
    "    print(f\"Sequence number: {i}, Fibonacci number: {fibo1(i)}\")"
   ]
  },
  {
   "cell_type": "code",
   "execution_count": 3,
   "metadata": {},
   "outputs": [
    {
     "name": "stdout",
     "output_type": "stream",
     "text": [
      "Sequence number: 0, Fibonacci number: 0\n",
      "Sequence number: 1, Fibonacci number: 1\n",
      "Sequence number: 2, Fibonacci number: 1\n",
      "Sequence number: 3, Fibonacci number: 2\n",
      "Sequence number: 4, Fibonacci number: 3\n",
      "Sequence number: 5, Fibonacci number: 5\n",
      "Sequence number: 6, Fibonacci number: 8\n",
      "Sequence number: 7, Fibonacci number: 13\n",
      "Sequence number: 8, Fibonacci number: 21\n",
      "Sequence number: 9, Fibonacci number: 34\n"
     ]
    }
   ],
   "source": [
    "for i in range(10):\n",
    "    print(f\"Sequence number: {i}, Fibonacci number: {round(fibo2(i), 0)}\")"
   ]
  },
  {
   "cell_type": "code",
   "execution_count": 4,
   "metadata": {},
   "outputs": [
    {
     "ename": "SystemExit",
     "evalue": "\n                 Wrong input format! \n                 The function requires a numeric input, but\n                 the input is not a float or an integer\n                 ",
     "output_type": "error",
     "traceback": [
      "An exception has occurred, use %tb to see the full traceback.\n",
      "\u001b[1;31mSystemExit\u001b[0m\u001b[1;31m:\u001b[0m \n                 Wrong input format! \n                 The function requires a numeric input, but\n                 the input is not a float or an integer\n                 \n"
     ]
    },
    {
     "name": "stderr",
     "output_type": "stream",
     "text": [
      "c:\\Users\\Joakim Torsvik\\Python_Notebooks\\.venv\\Lib\\site-packages\\IPython\\core\\interactiveshell.py:3585: UserWarning: To exit: use 'exit', 'quit', or Ctrl-D.\n",
      "  warn(\"To exit: use 'exit', 'quit', or Ctrl-D.\", stacklevel=1)\n"
     ]
    }
   ],
   "source": [
    "fibo1(\"test\")"
   ]
  },
  {
   "cell_type": "code",
   "execution_count": 5,
   "metadata": {},
   "outputs": [
    {
     "ename": "SystemExit",
     "evalue": "\n                     Wrong input number! \n                     The input is a negative number, but\n                     the function requires a positive number\n                     ",
     "output_type": "error",
     "traceback": [
      "An exception has occurred, use %tb to see the full traceback.\n",
      "\u001b[1;31mSystemExit\u001b[0m\u001b[1;31m:\u001b[0m \n                     Wrong input number! \n                     The input is a negative number, but\n                     the function requires a positive number\n                     \n"
     ]
    }
   ],
   "source": [
    "fibo1(-1)"
   ]
  },
  {
   "cell_type": "code",
   "execution_count": null,
   "metadata": {},
   "outputs": [],
   "source": []
  }
 ],
 "metadata": {
  "kernelspec": {
   "display_name": ".venv",
   "language": "python",
   "name": "python3"
  },
  "language_info": {
   "codemirror_mode": {
    "name": "ipython",
    "version": 3
   },
   "file_extension": ".py",
   "mimetype": "text/x-python",
   "name": "python",
   "nbconvert_exporter": "python",
   "pygments_lexer": "ipython3",
   "version": "3.12.2"
  }
 },
 "nbformat": 4,
 "nbformat_minor": 2
}
